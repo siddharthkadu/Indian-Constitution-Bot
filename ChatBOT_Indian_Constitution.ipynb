{
 "cells": [
  {
   "cell_type": "markdown",
   "metadata": {
    "id": "grhPvfVdPmZi"
   },
   "source": [
    "**Install Required Packages**"
   ]
  },
  {
   "cell_type": "code",
   "execution_count": 47,
   "metadata": {
    "colab": {
     "base_uri": "https://localhost:8080/"
    },
    "executionInfo": {
     "elapsed": 5730,
     "status": "ok",
     "timestamp": 1759330444663,
     "user": {
      "displayName": "Siddharth Kadu",
      "userId": "06007641890611247309"
     },
     "user_tz": -330
    },
    "id": "u0MQ7OvIGU7q",
    "outputId": "a8f63629-2b26-4761-ee4d-5d53b668b776"
   },
   "outputs": [
    {
     "name": "stdout",
     "output_type": "stream",
     "text": [
      "Requirement already satisfied: langchain in /usr/local/lib/python3.12/dist-packages (0.3.27)\n",
      "Requirement already satisfied: langchain-cohere in /usr/local/lib/python3.12/dist-packages (0.4.6)\n",
      "Requirement already satisfied: PyMuPDF in /usr/local/lib/python3.12/dist-packages (1.26.4)\n",
      "Requirement already satisfied: sentence-transformers in /usr/local/lib/python3.12/dist-packages (5.1.0)\n",
      "Requirement already satisfied: faiss-cpu in /usr/local/lib/python3.12/dist-packages (1.12.0)\n",
      "Requirement already satisfied: pypdf in /usr/local/lib/python3.12/dist-packages (6.1.1)\n",
      "Requirement already satisfied: langchain-core<1.0.0,>=0.3.72 in /usr/local/lib/python3.12/dist-packages (from langchain) (0.3.76)\n",
      "Requirement already satisfied: langchain-text-splitters<1.0.0,>=0.3.9 in /usr/local/lib/python3.12/dist-packages (from langchain) (0.3.11)\n",
      "Requirement already satisfied: langsmith>=0.1.17 in /usr/local/lib/python3.12/dist-packages (from langchain) (0.4.28)\n",
      "Requirement already satisfied: pydantic<3.0.0,>=2.7.4 in /usr/local/lib/python3.12/dist-packages (from langchain) (2.11.9)\n",
      "Requirement already satisfied: SQLAlchemy<3,>=1.4 in /usr/local/lib/python3.12/dist-packages (from langchain) (2.0.43)\n",
      "Requirement already satisfied: requests<3,>=2 in /usr/local/lib/python3.12/dist-packages (from langchain) (2.32.5)\n",
      "Requirement already satisfied: PyYAML>=5.3 in /usr/local/lib/python3.12/dist-packages (from langchain) (6.0.2)\n",
      "Requirement already satisfied: cohere<6.0,>=5.18.0 in /usr/local/lib/python3.12/dist-packages (from langchain-cohere) (5.18.0)\n",
      "Requirement already satisfied: langchain-community<0.4.0,>=0.3.0 in /usr/local/lib/python3.12/dist-packages (from langchain-cohere) (0.3.30)\n",
      "Requirement already satisfied: types-pyyaml<7.0.0.0,>=6.0.12.20240917 in /usr/local/lib/python3.12/dist-packages (from langchain-cohere) (6.0.12.20250915)\n",
      "Requirement already satisfied: transformers<5.0.0,>=4.41.0 in /usr/local/lib/python3.12/dist-packages (from sentence-transformers) (4.56.1)\n",
      "Requirement already satisfied: tqdm in /usr/local/lib/python3.12/dist-packages (from sentence-transformers) (4.67.1)\n",
      "Requirement already satisfied: torch>=1.11.0 in /usr/local/lib/python3.12/dist-packages (from sentence-transformers) (2.8.0+cu126)\n",
      "Requirement already satisfied: scikit-learn in /usr/local/lib/python3.12/dist-packages (from sentence-transformers) (1.6.1)\n",
      "Requirement already satisfied: scipy in /usr/local/lib/python3.12/dist-packages (from sentence-transformers) (1.16.2)\n",
      "Requirement already satisfied: huggingface-hub>=0.20.0 in /usr/local/lib/python3.12/dist-packages (from sentence-transformers) (0.35.0)\n",
      "Requirement already satisfied: Pillow in /usr/local/lib/python3.12/dist-packages (from sentence-transformers) (11.3.0)\n",
      "Requirement already satisfied: typing_extensions>=4.5.0 in /usr/local/lib/python3.12/dist-packages (from sentence-transformers) (4.15.0)\n",
      "Requirement already satisfied: numpy<3.0,>=1.25.0 in /usr/local/lib/python3.12/dist-packages (from faiss-cpu) (2.0.2)\n",
      "Requirement already satisfied: packaging in /usr/local/lib/python3.12/dist-packages (from faiss-cpu) (25.0)\n",
      "Requirement already satisfied: fastavro<2.0.0,>=1.9.4 in /usr/local/lib/python3.12/dist-packages (from cohere<6.0,>=5.18.0->langchain-cohere) (1.12.0)\n",
      "Requirement already satisfied: httpx>=0.21.2 in /usr/local/lib/python3.12/dist-packages (from cohere<6.0,>=5.18.0->langchain-cohere) (0.28.1)\n",
      "Requirement already satisfied: httpx-sse==0.4.0 in /usr/local/lib/python3.12/dist-packages (from cohere<6.0,>=5.18.0->langchain-cohere) (0.4.0)\n",
      "Requirement already satisfied: pydantic-core<3.0.0,>=2.18.2 in /usr/local/lib/python3.12/dist-packages (from cohere<6.0,>=5.18.0->langchain-cohere) (2.33.2)\n",
      "Requirement already satisfied: tokenizers<1,>=0.15 in /usr/local/lib/python3.12/dist-packages (from cohere<6.0,>=5.18.0->langchain-cohere) (0.22.0)\n",
      "Requirement already satisfied: types-requests<3.0.0,>=2.0.0 in /usr/local/lib/python3.12/dist-packages (from cohere<6.0,>=5.18.0->langchain-cohere) (2.32.4.20250913)\n",
      "Requirement already satisfied: filelock in /usr/local/lib/python3.12/dist-packages (from huggingface-hub>=0.20.0->sentence-transformers) (3.19.1)\n",
      "Requirement already satisfied: fsspec>=2023.5.0 in /usr/local/lib/python3.12/dist-packages (from huggingface-hub>=0.20.0->sentence-transformers) (2025.3.0)\n",
      "Requirement already satisfied: hf-xet<2.0.0,>=1.1.3 in /usr/local/lib/python3.12/dist-packages (from huggingface-hub>=0.20.0->sentence-transformers) (1.1.10)\n",
      "Requirement already satisfied: aiohttp<4.0.0,>=3.8.3 in /usr/local/lib/python3.12/dist-packages (from langchain-community<0.4.0,>=0.3.0->langchain-cohere) (3.12.15)\n",
      "Requirement already satisfied: tenacity!=8.4.0,<10.0.0,>=8.1.0 in /usr/local/lib/python3.12/dist-packages (from langchain-community<0.4.0,>=0.3.0->langchain-cohere) (8.5.0)\n",
      "Requirement already satisfied: dataclasses-json<0.7.0,>=0.6.7 in /usr/local/lib/python3.12/dist-packages (from langchain-community<0.4.0,>=0.3.0->langchain-cohere) (0.6.7)\n",
      "Requirement already satisfied: pydantic-settings<3.0.0,>=2.10.1 in /usr/local/lib/python3.12/dist-packages (from langchain-community<0.4.0,>=0.3.0->langchain-cohere) (2.10.1)\n",
      "Requirement already satisfied: jsonpatch<2.0,>=1.33 in /usr/local/lib/python3.12/dist-packages (from langchain-core<1.0.0,>=0.3.72->langchain) (1.33)\n",
      "Requirement already satisfied: orjson>=3.9.14 in /usr/local/lib/python3.12/dist-packages (from langsmith>=0.1.17->langchain) (3.11.3)\n",
      "Requirement already satisfied: requests-toolbelt>=1.0.0 in /usr/local/lib/python3.12/dist-packages (from langsmith>=0.1.17->langchain) (1.0.0)\n",
      "Requirement already satisfied: zstandard>=0.23.0 in /usr/local/lib/python3.12/dist-packages (from langsmith>=0.1.17->langchain) (0.25.0)\n",
      "Requirement already satisfied: annotated-types>=0.6.0 in /usr/local/lib/python3.12/dist-packages (from pydantic<3.0.0,>=2.7.4->langchain) (0.7.0)\n",
      "Requirement already satisfied: typing-inspection>=0.4.0 in /usr/local/lib/python3.12/dist-packages (from pydantic<3.0.0,>=2.7.4->langchain) (0.4.1)\n",
      "Requirement already satisfied: charset_normalizer<4,>=2 in /usr/local/lib/python3.12/dist-packages (from requests<3,>=2->langchain) (3.4.3)\n",
      "Requirement already satisfied: idna<4,>=2.5 in /usr/local/lib/python3.12/dist-packages (from requests<3,>=2->langchain) (3.10)\n",
      "Requirement already satisfied: urllib3<3,>=1.21.1 in /usr/local/lib/python3.12/dist-packages (from requests<3,>=2->langchain) (2.5.0)\n",
      "Requirement already satisfied: certifi>=2017.4.17 in /usr/local/lib/python3.12/dist-packages (from requests<3,>=2->langchain) (2025.8.3)\n",
      "Requirement already satisfied: greenlet>=1 in /usr/local/lib/python3.12/dist-packages (from SQLAlchemy<3,>=1.4->langchain) (3.2.4)\n",
      "Requirement already satisfied: setuptools in /usr/local/lib/python3.12/dist-packages (from torch>=1.11.0->sentence-transformers) (75.2.0)\n",
      "Requirement already satisfied: sympy>=1.13.3 in /usr/local/lib/python3.12/dist-packages (from torch>=1.11.0->sentence-transformers) (1.13.3)\n",
      "Requirement already satisfied: networkx in /usr/local/lib/python3.12/dist-packages (from torch>=1.11.0->sentence-transformers) (3.5)\n",
      "Requirement already satisfied: jinja2 in /usr/local/lib/python3.12/dist-packages (from torch>=1.11.0->sentence-transformers) (3.1.6)\n",
      "Requirement already satisfied: nvidia-cuda-nvrtc-cu12==12.6.77 in /usr/local/lib/python3.12/dist-packages (from torch>=1.11.0->sentence-transformers) (12.6.77)\n",
      "Requirement already satisfied: nvidia-cuda-runtime-cu12==12.6.77 in /usr/local/lib/python3.12/dist-packages (from torch>=1.11.0->sentence-transformers) (12.6.77)\n",
      "Requirement already satisfied: nvidia-cuda-cupti-cu12==12.6.80 in /usr/local/lib/python3.12/dist-packages (from torch>=1.11.0->sentence-transformers) (12.6.80)\n",
      "Requirement already satisfied: nvidia-cudnn-cu12==9.10.2.21 in /usr/local/lib/python3.12/dist-packages (from torch>=1.11.0->sentence-transformers) (9.10.2.21)\n",
      "Requirement already satisfied: nvidia-cublas-cu12==12.6.4.1 in /usr/local/lib/python3.12/dist-packages (from torch>=1.11.0->sentence-transformers) (12.6.4.1)\n",
      "Requirement already satisfied: nvidia-cufft-cu12==11.3.0.4 in /usr/local/lib/python3.12/dist-packages (from torch>=1.11.0->sentence-transformers) (11.3.0.4)\n",
      "Requirement already satisfied: nvidia-curand-cu12==10.3.7.77 in /usr/local/lib/python3.12/dist-packages (from torch>=1.11.0->sentence-transformers) (10.3.7.77)\n",
      "Requirement already satisfied: nvidia-cusolver-cu12==11.7.1.2 in /usr/local/lib/python3.12/dist-packages (from torch>=1.11.0->sentence-transformers) (11.7.1.2)\n",
      "Requirement already satisfied: nvidia-cusparse-cu12==12.5.4.2 in /usr/local/lib/python3.12/dist-packages (from torch>=1.11.0->sentence-transformers) (12.5.4.2)\n",
      "Requirement already satisfied: nvidia-cusparselt-cu12==0.7.1 in /usr/local/lib/python3.12/dist-packages (from torch>=1.11.0->sentence-transformers) (0.7.1)\n",
      "Requirement already satisfied: nvidia-nccl-cu12==2.27.3 in /usr/local/lib/python3.12/dist-packages (from torch>=1.11.0->sentence-transformers) (2.27.3)\n",
      "Requirement already satisfied: nvidia-nvtx-cu12==12.6.77 in /usr/local/lib/python3.12/dist-packages (from torch>=1.11.0->sentence-transformers) (12.6.77)\n",
      "Requirement already satisfied: nvidia-nvjitlink-cu12==12.6.85 in /usr/local/lib/python3.12/dist-packages (from torch>=1.11.0->sentence-transformers) (12.6.85)\n",
      "Requirement already satisfied: nvidia-cufile-cu12==1.11.1.6 in /usr/local/lib/python3.12/dist-packages (from torch>=1.11.0->sentence-transformers) (1.11.1.6)\n",
      "Requirement already satisfied: triton==3.4.0 in /usr/local/lib/python3.12/dist-packages (from torch>=1.11.0->sentence-transformers) (3.4.0)\n",
      "Requirement already satisfied: regex!=2019.12.17 in /usr/local/lib/python3.12/dist-packages (from transformers<5.0.0,>=4.41.0->sentence-transformers) (2024.11.6)\n",
      "Requirement already satisfied: safetensors>=0.4.3 in /usr/local/lib/python3.12/dist-packages (from transformers<5.0.0,>=4.41.0->sentence-transformers) (0.6.2)\n",
      "Requirement already satisfied: joblib>=1.2.0 in /usr/local/lib/python3.12/dist-packages (from scikit-learn->sentence-transformers) (1.5.2)\n",
      "Requirement already satisfied: threadpoolctl>=3.1.0 in /usr/local/lib/python3.12/dist-packages (from scikit-learn->sentence-transformers) (3.6.0)\n",
      "Requirement already satisfied: aiohappyeyeballs>=2.5.0 in /usr/local/lib/python3.12/dist-packages (from aiohttp<4.0.0,>=3.8.3->langchain-community<0.4.0,>=0.3.0->langchain-cohere) (2.6.1)\n",
      "Requirement already satisfied: aiosignal>=1.4.0 in /usr/local/lib/python3.12/dist-packages (from aiohttp<4.0.0,>=3.8.3->langchain-community<0.4.0,>=0.3.0->langchain-cohere) (1.4.0)\n",
      "Requirement already satisfied: attrs>=17.3.0 in /usr/local/lib/python3.12/dist-packages (from aiohttp<4.0.0,>=3.8.3->langchain-community<0.4.0,>=0.3.0->langchain-cohere) (25.3.0)\n",
      "Requirement already satisfied: frozenlist>=1.1.1 in /usr/local/lib/python3.12/dist-packages (from aiohttp<4.0.0,>=3.8.3->langchain-community<0.4.0,>=0.3.0->langchain-cohere) (1.7.0)\n",
      "Requirement already satisfied: multidict<7.0,>=4.5 in /usr/local/lib/python3.12/dist-packages (from aiohttp<4.0.0,>=3.8.3->langchain-community<0.4.0,>=0.3.0->langchain-cohere) (6.6.4)\n",
      "Requirement already satisfied: propcache>=0.2.0 in /usr/local/lib/python3.12/dist-packages (from aiohttp<4.0.0,>=3.8.3->langchain-community<0.4.0,>=0.3.0->langchain-cohere) (0.3.2)\n",
      "Requirement already satisfied: yarl<2.0,>=1.17.0 in /usr/local/lib/python3.12/dist-packages (from aiohttp<4.0.0,>=3.8.3->langchain-community<0.4.0,>=0.3.0->langchain-cohere) (1.20.1)\n",
      "Requirement already satisfied: marshmallow<4.0.0,>=3.18.0 in /usr/local/lib/python3.12/dist-packages (from dataclasses-json<0.7.0,>=0.6.7->langchain-community<0.4.0,>=0.3.0->langchain-cohere) (3.26.1)\n",
      "Requirement already satisfied: typing-inspect<1,>=0.4.0 in /usr/local/lib/python3.12/dist-packages (from dataclasses-json<0.7.0,>=0.6.7->langchain-community<0.4.0,>=0.3.0->langchain-cohere) (0.9.0)\n",
      "Requirement already satisfied: anyio in /usr/local/lib/python3.12/dist-packages (from httpx>=0.21.2->cohere<6.0,>=5.18.0->langchain-cohere) (4.10.0)\n",
      "Requirement already satisfied: httpcore==1.* in /usr/local/lib/python3.12/dist-packages (from httpx>=0.21.2->cohere<6.0,>=5.18.0->langchain-cohere) (1.0.9)\n",
      "Requirement already satisfied: h11>=0.16 in /usr/local/lib/python3.12/dist-packages (from httpcore==1.*->httpx>=0.21.2->cohere<6.0,>=5.18.0->langchain-cohere) (0.16.0)\n",
      "Requirement already satisfied: jsonpointer>=1.9 in /usr/local/lib/python3.12/dist-packages (from jsonpatch<2.0,>=1.33->langchain-core<1.0.0,>=0.3.72->langchain) (3.0.0)\n",
      "Requirement already satisfied: python-dotenv>=0.21.0 in /usr/local/lib/python3.12/dist-packages (from pydantic-settings<3.0.0,>=2.10.1->langchain-community<0.4.0,>=0.3.0->langchain-cohere) (1.1.1)\n",
      "Requirement already satisfied: mpmath<1.4,>=1.1.0 in /usr/local/lib/python3.12/dist-packages (from sympy>=1.13.3->torch>=1.11.0->sentence-transformers) (1.3.0)\n",
      "Requirement already satisfied: MarkupSafe>=2.0 in /usr/local/lib/python3.12/dist-packages (from jinja2->torch>=1.11.0->sentence-transformers) (3.0.2)\n",
      "Requirement already satisfied: mypy-extensions>=0.3.0 in /usr/local/lib/python3.12/dist-packages (from typing-inspect<1,>=0.4.0->dataclasses-json<0.7.0,>=0.6.7->langchain-community<0.4.0,>=0.3.0->langchain-cohere) (1.1.0)\n",
      "Requirement already satisfied: sniffio>=1.1 in /usr/local/lib/python3.12/dist-packages (from anyio->httpx>=0.21.2->cohere<6.0,>=5.18.0->langchain-cohere) (1.3.1)\n"
     ]
    }
   ],
   "source": [
    "!pip install langchain langchain-cohere PyMuPDF sentence-transformers faiss-cpu pypdf\n"
   ]
  },
  {
   "cell_type": "code",
   "execution_count": 48,
   "metadata": {
    "colab": {
     "base_uri": "https://localhost:8080/"
    },
    "executionInfo": {
     "elapsed": 6630,
     "status": "ok",
     "timestamp": 1759330461111,
     "user": {
      "displayName": "Siddharth Kadu",
      "userId": "06007641890611247309"
     },
     "user_tz": -330
    },
    "id": "FIDyCLosHLzJ",
    "outputId": "f4728614-d44f-4d05-a04f-fd34aa7b2d15"
   },
   "outputs": [
    {
     "name": "stdout",
     "output_type": "stream",
     "text": [
      "Requirement already satisfied: pypdf in /usr/local/lib/python3.12/dist-packages (6.1.1)\n"
     ]
    }
   ],
   "source": [
    "!pip install pypdf\n"
   ]
  },
  {
   "cell_type": "markdown",
   "metadata": {
    "id": "kugizulqPqLb"
   },
   "source": [
    "**Imports**"
   ]
  },
  {
   "cell_type": "code",
   "execution_count": 49,
   "metadata": {
    "executionInfo": {
     "elapsed": 48,
     "status": "ok",
     "timestamp": 1759330498943,
     "user": {
      "displayName": "Siddharth Kadu",
      "userId": "06007641890611247309"
     },
     "user_tz": -330
    },
    "id": "kSsKHpSGE4Of"
   },
   "outputs": [],
   "source": [
    "import os\n",
    "from langchain.document_loaders import PyPDFLoader\n",
    "from langchain.text_splitter import RecursiveCharacterTextSplitter\n",
    "from langchain.vectorstores import FAISS\n",
    "from langchain.embeddings import HuggingFaceEmbeddings\n",
    "from langchain.chains import RetrievalQA\n",
    "from langchain_cohere import ChatCohere\n",
    "import pickle\n"
   ]
  },
  {
   "cell_type": "markdown",
   "metadata": {
    "id": "8IzlM9jYMoJr"
   },
   "source": [
    "**Set your Cohere API key**"
   ]
  },
  {
   "cell_type": "code",
   "execution_count": null,
   "metadata": {
    "executionInfo": {
     "elapsed": 13,
     "status": "ok",
     "timestamp": 1759330500515,
     "user": {
      "displayName": "Siddharth Kadu",
      "userId": "06007641890611247309"
     },
     "user_tz": -330
    },
    "id": "o5Qq4h3DMp0r"
   },
   "outputs": [],
   "source": [
    "# Enter your Cohere API key interactively (will not be stored in the notebook)\n",
    "from getpass import getpass\n",
    "key = getpass('Enter Cohere API key: ')\n",
    "import os\n",
    "if key:\n",
    "    os.environ['COHERE_API_KEY'] = key\n",
    "else:\n",
    "    print('No key entered; make sure COHERE_API_KEY is set in the environment or use the Streamlit sidebar to provide it.')"
   ]
  },
  {
   "cell_type": "markdown",
   "metadata": {
    "id": "HlSDao3iFO4b"
   },
   "source": [
    "**Load Indian Constitution PDF**"
   ]
  },
  {
   "cell_type": "code",
   "execution_count": 51,
   "metadata": {
    "executionInfo": {
     "elapsed": 1757,
     "status": "ok",
     "timestamp": 1759330503641,
     "user": {
      "displayName": "Siddharth Kadu",
      "userId": "06007641890611247309"
     },
     "user_tz": -330
    },
    "id": "FXqf5mdXFLW0"
   },
   "outputs": [],
   "source": [
    "pdf_path = \"/content/constitution_of_india.pdf\"\n",
    "loader = PyPDFLoader(pdf_path)\n",
    "docs = loader.load()"
   ]
  },
  {
   "cell_type": "markdown",
   "metadata": {
    "id": "Gk3-lsbsFVDL"
   },
   "source": [
    "**Chunking (by Article/Section size)**"
   ]
  },
  {
   "cell_type": "code",
   "execution_count": 52,
   "metadata": {
    "colab": {
     "base_uri": "https://localhost:8080/"
    },
    "executionInfo": {
     "elapsed": 18,
     "status": "ok",
     "timestamp": 1759330508326,
     "user": {
      "displayName": "Siddharth Kadu",
      "userId": "06007641890611247309"
     },
     "user_tz": -330
    },
    "id": "GiMBEw7UFaFT",
    "outputId": "45f05232-8564-4644-ce6b-0959fbb595b9"
   },
   "outputs": [
    {
     "name": "stdout",
     "output_type": "stream",
     "text": [
      "✅ Total chunks created: 837\n"
     ]
    }
   ],
   "source": [
    "splitter = RecursiveCharacterTextSplitter(chunk_size=800, chunk_overlap=100)\n",
    "chunks = splitter.split_documents(docs)\n",
    "print(f\"✅ Total chunks created: {len(chunks)}\")"
   ]
  },
  {
   "cell_type": "markdown",
   "metadata": {
    "id": "uPyBb0orFf9L"
   },
   "source": [
    "**Create Embeddings & Vector DB**\n"
   ]
  },
  {
   "cell_type": "code",
   "execution_count": 53,
   "metadata": {
    "colab": {
     "base_uri": "https://localhost:8080/"
    },
    "executionInfo": {
     "elapsed": 87705,
     "status": "ok",
     "timestamp": 1759330597700,
     "user": {
      "displayName": "Siddharth Kadu",
      "userId": "06007641890611247309"
     },
     "user_tz": -330
    },
    "id": "9tOobxuSFhHD",
    "outputId": "e6b07ea5-0570-42bc-b0f0-2ece0c20961a"
   },
   "outputs": [
    {
     "name": "stdout",
     "output_type": "stream",
     "text": [
      "✅ Vector DB created successfully\n"
     ]
    }
   ],
   "source": [
    "# Embedding model\n",
    "embedding_model = HuggingFaceEmbeddings(model_name=\"sentence-transformers/all-MiniLM-L6-v2\")\n",
    "\n",
    "# Create FAISS vector store\n",
    "vector_db = FAISS.from_documents(chunks, embedding_model)\n",
    "\n",
    "print(\"✅ Vector DB created successfully\")\n"
   ]
  },
  {
   "cell_type": "markdown",
   "metadata": {
    "id": "WzxnfKDDQcul"
   },
   "source": [
    "**Save Vector DB as Pickle**"
   ]
  },
  {
   "cell_type": "code",
   "execution_count": 54,
   "metadata": {
    "colab": {
     "base_uri": "https://localhost:8080/"
    },
    "executionInfo": {
     "elapsed": 110,
     "status": "ok",
     "timestamp": 1759330647089,
     "user": {
      "displayName": "Siddharth Kadu",
      "userId": "06007641890611247309"
     },
     "user_tz": -330
    },
    "id": "gO2F6OAEQe-l",
    "outputId": "af8fcf29-c0a0-4270-8d31-5326207ae1ad"
   },
   "outputs": [
    {
     "name": "stdout",
     "output_type": "stream",
     "text": [
      "✅ Vector DB saved as vector_db.pkl\n"
     ]
    }
   ],
   "source": [
    "# Save vector DB for later use (for Streamlit)\n",
    "with open(\"vector_db.pkl\", \"wb\") as f:\n",
    "    pickle.dump(vector_db, f)\n",
    "\n",
    "print(\"✅ Vector DB saved as vector_db.pkl\")\n"
   ]
  },
  {
   "cell_type": "markdown",
   "metadata": {
    "id": "VKgqjkMhQmjT"
   },
   "source": [
    "**Load Vector DB from Pickle**"
   ]
  },
  {
   "cell_type": "code",
   "execution_count": 55,
   "metadata": {
    "colab": {
     "base_uri": "https://localhost:8080/"
    },
    "executionInfo": {
     "elapsed": 156,
     "status": "ok",
     "timestamp": 1759330650864,
     "user": {
      "displayName": "Siddharth Kadu",
      "userId": "06007641890611247309"
     },
     "user_tz": -330
    },
    "id": "8VVnnYetQlur",
    "outputId": "c9b5e599-c005-447f-9c24-473b2aa74d86"
   },
   "outputs": [
    {
     "name": "stdout",
     "output_type": "stream",
     "text": [
      "✅ Vector DB loaded successfully\n"
     ]
    }
   ],
   "source": [
    "# Load saved vector DB (useful for Streamlit)\n",
    "with open(\"vector_db.pkl\", \"rb\") as f:\n",
    "    vector_db = pickle.load(f)\n",
    "\n",
    "print(\"✅ Vector DB loaded successfully\")\n"
   ]
  },
  {
   "cell_type": "markdown",
   "metadata": {
    "id": "Nf2be-qrQtn8"
   },
   "source": [
    "**Setup LLM & RAG Chain**"
   ]
  },
  {
   "cell_type": "code",
   "execution_count": 56,
   "metadata": {
    "executionInfo": {
     "elapsed": 122,
     "status": "ok",
     "timestamp": 1759330653645,
     "user": {
      "displayName": "Siddharth Kadu",
      "userId": "06007641890611247309"
     },
     "user_tz": -330
    },
    "id": "aeMmUvOrO2rC"
   },
   "outputs": [],
   "source": [
    "# Initialize Cohere LLM (use supported model)\n",
    "llm = ChatCohere(model=\"command-xlarge-nightly\")"
   ]
  },
  {
   "cell_type": "code",
   "execution_count": 57,
   "metadata": {
    "executionInfo": {
     "elapsed": 3,
     "status": "ok",
     "timestamp": 1759330655793,
     "user": {
      "displayName": "Siddharth Kadu",
      "userId": "06007641890611247309"
     },
     "user_tz": -330
    },
    "id": "6JX5saskL3yz"
   },
   "outputs": [],
   "source": [
    "# Setup retriever\n",
    "retriever = vector_db.as_retriever(search_type=\"similarity\", search_kwargs={\"k\":3})"
   ]
  },
  {
   "cell_type": "code",
   "execution_count": 58,
   "metadata": {
    "executionInfo": {
     "elapsed": 7,
     "status": "ok",
     "timestamp": 1759330656888,
     "user": {
      "displayName": "Siddharth Kadu",
      "userId": "06007641890611247309"
     },
     "user_tz": -330
    },
    "id": "Jzjtg19ZL76a"
   },
   "outputs": [],
   "source": [
    "# Create RetrievalQA chain\n",
    "qa_chain = RetrievalQA.from_chain_type(\n",
    "    llm=llm,\n",
    "    retriever=retriever,\n",
    "    return_source_documents=True\n",
    ")"
   ]
  },
  {
   "cell_type": "code",
   "execution_count": 59,
   "metadata": {
    "colab": {
     "base_uri": "https://localhost:8080/"
    },
    "executionInfo": {
     "elapsed": 6,
     "status": "ok",
     "timestamp": 1759330659331,
     "user": {
      "displayName": "Siddharth Kadu",
      "userId": "06007641890611247309"
     },
     "user_tz": -330
    },
    "id": "E-XsdWuSQ6ak",
    "outputId": "a8c70599-f254-40ef-a100-f0d9013ab950"
   },
   "outputs": [
    {
     "name": "stdout",
     "output_type": "stream",
     "text": [
      "✅ RAG QA chain ready\n"
     ]
    }
   ],
   "source": [
    "print(\"✅ RAG QA chain ready\")"
   ]
  },
  {
   "cell_type": "markdown",
   "metadata": {
    "id": "jOF2R5vfQ9Ek"
   },
   "source": [
    "**Ask Questions**"
   ]
  },
  {
   "cell_type": "code",
   "execution_count": 60,
   "metadata": {
    "colab": {
     "base_uri": "https://localhost:8080/"
    },
    "executionInfo": {
     "elapsed": 4235,
     "status": "ok",
     "timestamp": 1759330665481,
     "user": {
      "displayName": "Siddharth Kadu",
      "userId": "06007641890611247309"
     },
     "user_tz": -330
    },
    "id": "E_QEB6OiFoir",
    "outputId": "3f3863c0-1388-42f7-9237-e6d4fbe4e1c6"
   },
   "outputs": [
    {
     "name": "stdout",
     "output_type": "stream",
     "text": [
      "\n",
      "💡 Answer:\n",
      " Article 370 of the Indian Constitution is a temporary provision that granted special autonomous status to the state of Jammu and Kashmir. It was included in the Constitution under Part XXI, which deals with Temporary, Transitional, and Special Provisions. Here are the key points of Article 370:\n",
      "\n",
      "1. **Special Status for Jammu and Kashmir**: Article 370 provided that the provisions of the Indian Constitution, except those related to defense, foreign affairs, finance, and communications, would not automatically apply to Jammu and Kashmir. The state had its own constitution and could make laws on matters not explicitly ceded to the central government.\n",
      "\n",
      "2. **President's Power to Extend Provisions**: The President of India had the authority to extend other provisions of the Constitution to Jammu and Kashmir, but only with the concurrence of the state's government.\n",
      "\n",
      "3. **Instrument of Accession**: The powers of the Parliament to make laws for Jammu and Kashmir were limited to those matters specified in the Instrument of Accession, which was signed by the Maharaja of Jammu and Kashmir in 1947, and other matters agreed upon with the state government.\n",
      "\n",
      "4. **Temporary Nature**: Article 370 was a temporary provision, and it could be abrogated, amended, or modified by a Presidential Order, but only with the recommendation of the Constituent Assembly of Jammu and Kashmir.\n",
      "\n",
      "**Abrogation of Article 370**: On August 5, 2019, the Indian government issued a Presidential Order under Article 370(3), superseding the earlier order and making all provisions of the Indian Constitution applicable to Jammu and Kashmir. This effectively abrogated the special status granted under Article 370. Simultaneously, the Jammu and Kashmir Reorganisation Act, 2019, was passed, which bifurcated the state into two Union Territories: Jammu and Kashmir, and Ladakh.\n",
      "\n",
      "This move was highly significant and led to various political, legal, and social implications in the region and across India.\n",
      "\n",
      "📌 Sources (Articles/Sections Used):\n",
      "to in clause (1) of article 317.\n",
      "Rules of Court, etc.\n",
      "1Ins. by the Constitution (Forty-second Amendment) Act, 1976, s. 26 (w.e.f. 1-2-1977).\n",
      "2Subs. by the Constitution (Forty-third Amendment) Act, 1977, s. 6, for “articles 131A\n",
      "and 139A” (w.e.f. 13-4-1978).\n",
      "THE CONSTITUTION OF INDIA\n",
      "(Part V.— The Un ...\n",
      "\n",
      "1[370. (1) Notwithstanding anything in this\n",
      "Constitution,—\n",
      "(a) the provisions of article 238 shall not apply in\n",
      "relation to the State of  Jammu and Kashmir;\n",
      "(b) the power of Parliament to make laws for the\n",
      "said State shall be limited to—\n",
      "(i) those matters in the Union List and  the\n",
      "Concurrent List w ...\n",
      "\n",
      "THE CONSTITUTION OF INDIA\n",
      "(Part XXI.— Temporary, Transitional and Special\n",
      "Provisions.— Arts. 374—376.)\n",
      "264 ...\n",
      "\n"
     ]
    }
   ],
   "source": [
    "query = \"What is Article 370 in the Indian Constitution?\"\n",
    "result = qa_chain({\"query\": query})\n",
    "\n",
    "# Display answer\n",
    "print(\"\\n💡 Answer:\\n\", result[\"result\"])\n",
    "print(\"\\n📌 Sources (Articles/Sections Used):\")\n",
    "for doc in result[\"source_documents\"]:\n",
    "    print(doc.page_content[:300], \"...\\n\")\n"
   ]
  },
  {
   "cell_type": "code",
   "execution_count": 61,
   "metadata": {
    "executionInfo": {
     "elapsed": 9919,
     "status": "ok",
     "timestamp": 1759332223317,
     "user": {
      "displayName": "Siddharth Kadu",
      "userId": "06007641890611247309"
     },
     "user_tz": -330
    },
    "id": "J_mfp5wiXqtu"
   },
   "outputs": [],
   "source": [
    "query = \"how to deal with failurein  Indian Constitution?\"\n",
    "result = qa_chain({\"query\": query})"
   ]
  },
  {
   "cell_type": "code",
   "execution_count": 62,
   "metadata": {
    "colab": {
     "base_uri": "https://localhost:8080/"
    },
    "executionInfo": {
     "elapsed": 7,
     "status": "ok",
     "timestamp": 1759332250052,
     "user": {
      "displayName": "Siddharth Kadu",
      "userId": "06007641890611247309"
     },
     "user_tz": -330
    },
    "id": "OmWuloQHX5ft",
    "outputId": "a703cacb-3e9c-4d1d-c8ff-4209bc9e9f08"
   },
   "outputs": [
    {
     "name": "stdout",
     "output_type": "stream",
     "text": [
      "\n",
      "💡 Answer:\n",
      " The Indian Constitution does not explicitly outline a specific process for dealing with \"failure\" in the sense of personal or individual setbacks. However, it provides a framework for addressing systemic failures, governance issues, and constitutional challenges through various mechanisms. Here’s how the Constitution deals with such situations:\n",
      "\n",
      "1. **Judicial Review (Article 13, 32, 136, 226, 227):**  \n",
      "   - The Supreme Court and High Courts have the power to review laws and actions of the government to ensure they comply with the Constitution. If a law or action violates fundamental rights or constitutional principles, it can be struck down.\n",
      "\n",
      "2. **Fundamental Rights (Part III, Articles 12-35):**  \n",
      "   - Citizens can seek redressal for violations of their fundamental rights through writs (habeas corpus, mandamus, prohibition, quo warranto, certiorari) under Article 32 (Supreme Court) and Article 226 (High Courts).\n",
      "\n",
      "3. **Parliamentary Oversight:**  \n",
      "   - Parliament exercises oversight over the executive through questions, debates, and committees. If the government fails to perform its duties, Parliament can hold it accountable.\n",
      "\n",
      "4. **Federalism and State Autonomy:**  \n",
      "   - The Constitution provides for a federal structure where states have autonomy in certain areas. If a state government fails, the President can impose President's Rule under Article 356, dissolving the state government and taking direct control.\n",
      "\n",
      "5. **Emergency Provisions (Part XVIII, Articles 352-360):**  \n",
      "   - In case of failure of constitutional machinery, the President can declare three types of emergencies: National Emergency (Article 352), State Emergency (Article 356), or Financial Emergency (Article 360). These provisions allow the central government to take direct control to restore normalcy.\n",
      "\n",
      "6. **Amendments to the Constitution (Article 368):**  \n",
      "   - If there is a systemic failure or need for reform, the Constitution can be amended to address the issue. However, certain basic features of the Constitution cannot be amended (as per the Supreme Court's Kesavananda Bharati judgment).\n",
      "\n",
      "7. **Anti-Defection Law (Tenth Schedule):**  \n",
      "   - To address political instability caused by defections, the Constitution provides for disqualification of members who defect from their party.\n",
      "\n",
      "8. **Election Commission and Free Elections:**  \n",
      "   - The Election Commission ensures free and fair elections, allowing citizens to replace failing governments through democratic means.\n",
      "\n",
      "9. **Directive Principles of State Policy (Part IV, Articles 36-51):**  \n",
      "   - While not enforceable, these principles guide the government to address socio-economic failures and work towards the welfare of the people.\n",
      "\n",
      "10. **Public Interest Litigation (PIL):**  \n",
      "    - The judiciary allows PILs to address systemic failures and ensure justice, especially for marginalized sections of society.\n",
      "\n",
      "In summary, the Indian Constitution provides robust mechanisms to address systemic failures and ensure accountability through judicial, legislative, and executive measures. For personal failures, the Constitution does not provide specific guidance, but it ensures a framework for justice, equality, and opportunity for all citizens.\n",
      "\n",
      "📌 Sources (Articles/Sections Used):\n",
      "THE CONSTITUTION OF INDIA\n",
      "(Part XXI.— Temporary, Transitional and Special\n",
      "Provisions.— Arts. 374—376.)\n",
      "264 ...\n",
      "\n",
      "THE CONSTITUTION OF INDIA\n",
      "(Part III.— Fundamental Rights.— Art. 35.)\n",
      "20 ...\n",
      "\n",
      "THE CONSTITUTION OF INDIA\n",
      "(Part V .— The Union.— Arts. 78—80.)\n",
      "38 ...\n",
      "\n"
     ]
    }
   ],
   "source": [
    "print(\"\\n💡 Answer:\\n\", result[\"result\"])\n",
    "print(\"\\n📌 Sources (Articles/Sections Used):\")\n",
    "for doc in result[\"source_documents\"]:\n",
    "    print(doc.page_content[:300], \"...\\n\")"
   ]
  },
  {
   "cell_type": "code",
   "execution_count": 63,
   "metadata": {
    "executionInfo": {
     "elapsed": 274,
     "status": "ok",
     "timestamp": 1759332634702,
     "user": {
      "displayName": "Siddharth Kadu",
      "userId": "06007641890611247309"
     },
     "user_tz": -330
    },
    "id": "4DbL9WHcZWeH"
   },
   "outputs": [],
   "source": [
    "query = \"hello\"\n",
    "result = qa_chain({\"query\": query})"
   ]
  },
  {
   "cell_type": "code",
   "execution_count": 64,
   "metadata": {
    "colab": {
     "base_uri": "https://localhost:8080/"
    },
    "executionInfo": {
     "elapsed": 8,
     "status": "ok",
     "timestamp": 1759332636629,
     "user": {
      "displayName": "Siddharth Kadu",
      "userId": "06007641890611247309"
     },
     "user_tz": -330
    },
    "id": "KudjvnNcZT1I",
    "outputId": "0b0a0037-cd1e-4f9f-be03-cf0320abc694"
   },
   "outputs": [
    {
     "name": "stdout",
     "output_type": "stream",
     "text": [
      "\n",
      "💡 Answer:\n",
      " Hello! How can I assist you today?\n",
      "\n",
      "📌 Sources (Articles/Sections Used):\n",
      "to him immediately before such commencement.\n",
      "378. (1) The members of the Public Service\n",
      "Commission for the Dominion of India holding office\n",
      "immediately before the commencement of this\n",
      "Constitution shall, unless they have elected otherwise,\n",
      "become on such commencement the members of the\n",
      "Public Servic ...\n",
      "\n",
      "(2) The President may send messages to either House\n",
      "of Parliament, whether with respect to a Bill then pending\n",
      "in Parliament or otherwise, and a House to which any\n",
      "message is so sent shall with all convenient despatch\n",
      "consider any matter required by the message to be taken\n",
      "into consideration.\n",
      "87. (1 ...\n",
      "\n",
      "2*** of a State or such person as he\n",
      "may direct in the case of services and posts in connection\n",
      "with the affairs of the  State, to make  rules regulating the\n",
      "recruitment, and the conditions of service of persons\n",
      "appointed, to such services and posts until provision in\n",
      "that behalf is made by or under ...\n",
      "\n"
     ]
    }
   ],
   "source": [
    "print(\"\\n💡 Answer:\\n\", result[\"result\"])\n",
    "print(\"\\n📌 Sources (Articles/Sections Used):\")\n",
    "for doc in result[\"source_documents\"]:\n",
    "    print(doc.page_content[:300], \"...\\n\")"
   ]
  },
  {
   "cell_type": "code",
   "execution_count": null,
   "metadata": {},
   "outputs": [],
   "source": [
    "# Interactive test using the new backend module\n",
    "from backend.rag_bot import get_default_bot\n",
    "\n",
    "# Initialize bot (assumes vector_db.pkl in notebook folder). If you need to pass your API key, set COHERE_API_KEY in env or pass cohere_api_key=...\n",
    "bot = get_default_bot(vector_db_path=\"vector_db.pkl\")\n",
    "\n",
    "# Simple input loop: run in notebook to ask a single question\n",
    "query = input('Enter question about the Indian Constitution: ')\n",
    "if query.strip():\n",
    "    resp = bot.answer(query)\n",
    "    print('\n",
    "Answer:\n",
    "', resp.get('answer'))\n",
    "    print('\n",
    "Sources:')\n",
    "    for i, s in enumerate(resp.get('sources', []), 1):\n",
    "        print(f'--- Source {i} ---')\n",
    "        if s.get('metadata'):\n",
    "            print('Metadata:', s['metadata'])\n",
    "        print(s.get('page_content', '')[:1000])\n",
    "else:\n",
    "    print('No question entered.')\n"
   ]
  }
 ],
 "metadata": {
  "colab": {
   "authorship_tag": "ABX9TyP7eLm47B3SJB2RP79duMIq",
   "provenance": []
  },
  "kernelspec": {
   "display_name": "Python 3",
   "name": "python3"
  },
  "language_info": {
   "name": "python"
  }
 },
 "nbformat": 4,
 "nbformat_minor": 0
}
